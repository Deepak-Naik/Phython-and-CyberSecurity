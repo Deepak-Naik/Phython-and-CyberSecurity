{
  "nbformat": 4,
  "nbformat_minor": 0,
  "metadata": {
    "colab": {
      "name": "Untitled0.ipynb",
      "provenance": [],
      "collapsed_sections": []
    },
    "kernelspec": {
      "name": "python3",
      "display_name": "Python 3"
    },
    "language_info": {
      "name": "python"
    }
  },
  "cells": [
    {
      "cell_type": "code",
      "metadata": {
        "colab": {
          "base_uri": "https://localhost:8080/"
        },
        "id": "OlrTAf-D9CU5",
        "outputId": "2ce45b20-f99c-41e3-c03c-c338d759feb7"
      },
      "source": [
        "import requests\n",
        "from datetime import datetime\n",
        "api_key='86138c1c4b8bf6d295ad639bbfb31f3d'\n",
        "location=input(\"Enter the city name: \")\n",
        "complete_api_link=\"https://api.openweathermap.org/data/2.5/weather?q=\"+location+\"&appid=\"+api_key\n",
        "api_link=requests.get(complete_api_link)\n",
        "api_data=api_link.json()\n",
        "\n",
        "temp_city=((api_data['main']['temp'])-273.15)\n",
        "weather_desc=api_data['weather'][0]['description']\n",
        "hmdt=api_data['main']['humidity']\n",
        "wind_spd=api_data['wind']['speed']\n",
        "date_time=datetime.now().strftime(\"%d %b %Y | %I:%M:%S %p\")\n",
        "\n",
        "print(\"--------------------------------------------------------------------------------\")\n",
        "print(\"Weather stats for = {}   ||   {}\".format(location.upper(),date_time))\n",
        "print(\"--------------------------------------------------------------------------------\")\n",
        "\n",
        "print(\"Current temperature is: {:.2f} deg C\".format(temp_city))\n",
        "print(\"Current weather desc  :\",weather_desc)\n",
        "print(\"Current Humidity      :\",hmdt,'%')\n",
        "print(\"Current wind speed    :\",wind_spd,'kmph')\n",
        "\n",
        "file1 = open(\"myfile.txt\",\"w\")\n",
        "file1.write(\"temperature is {}, Current weather is {}, Current humidity is {}, Current wind speed is {}\".format(temp_city,weather_desc,hmdt,wind_spd))\n",
        "file1.close()\n",
        "\n",
        "\n",
        "\n"
      ],
      "execution_count": 1,
      "outputs": [
        {
          "output_type": "stream",
          "text": [
            "Enter the city name: ranchi\n",
            "--------------------------------------------------------------------------------\n",
            "Weather stats for = RANCHI   ||   28 Jul 2021 | 02:31:59 AM\n",
            "--------------------------------------------------------------------------------\n",
            "Current temperature is: 25.06 deg C\n",
            "Current weather desc  : haze\n",
            "Current Humidity      : 88 %\n",
            "Current wind speed    : 2.06 kmph\n"
          ],
          "name": "stdout"
        }
      ]
    }
  ]
}